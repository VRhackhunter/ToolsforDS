{
 "cells": [
  {
   "cell_type": "markdown",
   "metadata": {},
   "source": [
    "<h1>My Jupyter Notebook on IBM Watson Studio<h1>"
   ]
  },
  {
   "cell_type": "markdown",
   "metadata": {},
   "source": [
    "**Gilbert Nguyen**"
   ]
  },
  {
   "cell_type": "markdown",
   "metadata": {},
   "source": [
    "occupation: data technician"
   ]
  },
  {
   "cell_type": "markdown",
   "metadata": {},
   "source": [
    "*I'm interested in Data Science because I find that it is the next step in my career, and I need to do more for myself. I want to help people in my community grow, and hopefully find a better salary so I can have to fund to buy a engagement ring.*"
   ]
  },
  {
   "cell_type": "markdown",
   "metadata": {},
   "source": [
    "<h3> my code in cell 5 prints out the phrase 'Python is powerful, but only as strong as your work ethic'<h3>"
   ]
  },
  {
   "cell_type": "code",
   "execution_count": null,
   "metadata": {},
   "outputs": [],
   "source": [
    "print('Python is powerful, but only as strong as your work ethic')"
   ]
  },
  {
   "cell_type": "markdown",
   "metadata": {},
   "source": [
    "\n",
    "<h2>Some resolutions for 2023 I will start today</h2>\n",
    "\n",
    "<ul>\n",
    "  <li>Read more books than I did in 2022(max count 9)</li>\n",
    "  <li>Focus on personal goals, and beating personal records(ex read more than 9 books)</li>\n",
    "  <li>Study the 'Dot-Com' bubble and the 2008 housing market crash to understand how the recession will go in 2023</li>\n",
    "  <li>Let go of all the negative thinking, you deserve to improve yourself next year</li>\n",
    "</ul>  \n",
    "\n",
    "<del>Some of your worst days should still see progress. Even when you are broken down, and desperate for any kind of solace; you should still try to read 1 page of a book you enjoy. Don't let the negative energy win, fight with everything you got and you will be better. If whatever you're doing is making you uncomfortable, you're on the right course</del>\n",
    "\n",
    "\n",
    "----"
   ]
  }
 ],
 "metadata": {
  "kernelspec": {
   "display_name": "Python",
   "language": "python",
   "name": "conda-env-python-py"
  },
  "language_info": {
   "codemirror_mode": {
    "name": "ipython",
    "version": 3
   },
   "file_extension": ".py",
   "mimetype": "text/x-python",
   "name": "python",
   "nbconvert_exporter": "python",
   "pygments_lexer": "ipython3",
   "version": "3.7.12"
  }
 },
 "nbformat": 4,
 "nbformat_minor": 4
}
